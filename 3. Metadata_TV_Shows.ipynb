{
 "cells": [
  {
   "cell_type": "markdown",
   "metadata": {},
   "source": [
    "## **<h3 align=\"center\">Series/ Tv Show - MetaData</h3>**\n",
    "**Group members:**<br>\n",
    "Alexandra Pinto - 20211599@novaims.unl.pt - 20211599<br>\n",
    "Ilona Nacu - 20211602@novaims.unl.pt - 20211602<br>\n",
    "Francisco Farinha - 20211550@novaims.unl.pt - 20211550<br>\n",
    "João Barradas - 20211590@novaims.unl.pt - 20211590<br>\n",
    "Rafael Proença  - 2021681@novaims.unl.pt - 2021681<br>\n",
    "\n",
    "## Introduction\n",
    "This notebook will serve to the chat to have a database about the tv shows, in particular to have access to CritiScore of a movie available in the dataset, for simplicity we will call the database Metadata. To create the metadata, we will perform some preprocessing techniques. \n",
    "\n",
    "## Table of Contents\n",
    "* [1. Import the Libraries](#chapter1)\n",
    "* [2. Import the Dataset](#chapter2)\n",
    "* [3. Preprocessing](#chapter3)\n",
    "    * [3.1. Series Dataset](#section_3_1)\n",
    "    * [3.2. Series_data Dataset](#section_3_2)\n",
    "    * [3.3. Archice_data Dataset](#section_3_3)\n",
    "* [4. Merging the Datasets](#chapter4)\n",
    "    * [4.1. Cleaning the Merged Dataset](#section_4_1)\n",
    "    * [4.2. Genres](#section_4_2)\n",
    "    * [4.3. CritiScore](#section_4_3)\n",
    "    * [4.4. Saving the Metadata with CritiScores](#section_4_4)\n"
   ]
  },
  {
   "cell_type": "markdown",
   "metadata": {},
   "source": [
    "-----------------------------\n",
    "# 1. Import the Libraries <a class=\"anchor\" id=\"chapter1\"></a>\n",
    "To run the following notebook, we need to firstly, add the imports."
   ]
  },
  {
   "cell_type": "code",
   "execution_count": 28,
   "metadata": {},
   "outputs": [],
   "source": [
    "# General imports\n",
    "import os\n",
    "import numpy as np\n",
    "import matplotlib.pyplot as plt\n",
    "from matplotlib.cm import get_cmap\n",
    "\n",
    "# Data analysis and manipulation\n",
    "import pandas as pd\n"
   ]
  },
  {
   "cell_type": "markdown",
   "metadata": {},
   "source": [
    "------------------------------------------\n",
    "# 2. Import the Dataset <a class=\"anchor\" id=\"chapter2\"></a>\n",
    "Now it is time to open the csv files. Inside the archive we have different datasets divided by genre. Since our goal is to have a more complete dataset we will join this datasets. All the datasets were provided by Kaggle:\n",
    "- series_data - https://www.kaggle.com/datasets/harshitshankhdhar/tv-series-dataset (Retrieved at 20 november)\n",
    "- TV series - https://www.kaggle.com/datasets/muralidharbhusal/50000-imdb-tv-and-web-series (Retrieved at 20 november)\n",
    "- archive data - https://www.kaggle.com/datasets/suraj520/imdb-tv-series-data/data (Retrieved at 20 november)"
   ]
  },
  {
   "cell_type": "code",
   "execution_count": 29,
   "metadata": {},
   "outputs": [
    {
     "name": "stderr",
     "output_type": "stream",
     "text": [
      "C:\\Users\\xandg\\AppData\\Local\\Temp\\ipykernel_31092\\631337160.py:28: FutureWarning: The behavior of DataFrame concatenation with empty or all-NA entries is deprecated. In a future version, this will no longer exclude empty or all-NA columns when determining the result dtypes. To retain the old behavior, exclude the relevant entries before the concat operation.\n",
      "  archive_data = pd.concat(dfs, ignore_index=True)\n"
     ]
    }
   ],
   "source": [
    "# Path to the directory containing CSV files\n",
    "directory_path = 'Data\\\\Tv_show_files'\n",
    "\n",
    "try:\n",
    "    # Initialize an empty list to store the dataframes\n",
    "    dfs = []\n",
    "\n",
    "    # Read 'series_data.csv'\n",
    "    series_data = pd.read_csv(os.path.join(directory_path, 'series_data.csv'), encoding='utf-8')\n",
    "    \n",
    "    # Read 'TV Series.csv'\n",
    "    series = pd.read_csv(os.path.join(directory_path, 'TV Series.csv'), encoding='utf-8')\n",
    "    \n",
    "    # Iterate through CSV files in 'archive' directory\n",
    "    for file in os.listdir(os.path.join(directory_path, 'archive')):\n",
    "        if file.endswith('.csv'):\n",
    "            file_path = os.path.join(directory_path, 'archive', file)\n",
    "            # Read the CSV file into a dataframe\n",
    "            df = pd.read_csv(file_path, encoding='utf-8')\n",
    "            \n",
    "            # Add a new column with a unique value for each file\n",
    "            df['UniqueValue'] = os.path.splitext(file)[0]  # Extracts the file name without extension\n",
    "            \n",
    "            # Append the dataframe to the list\n",
    "            dfs.append(df)\n",
    "\n",
    "    # Concatenate all 'archive' dataframes into a single dataframe\n",
    "    archive_data = pd.concat(dfs, ignore_index=True)\n",
    "\n",
    "except FileNotFoundError:\n",
    "    print(\"File not found. Please check the file path.\")\n",
    "except Exception as e:\n",
    "    print(f\"An error occurred: {e}\")\n"
   ]
  },
  {
   "cell_type": "code",
   "execution_count": 30,
   "metadata": {},
   "outputs": [
    {
     "name": "stdout",
     "output_type": "stream",
     "text": [
      "Series Data:\n"
     ]
    },
    {
     "data": {
      "text/html": [
       "<div>\n",
       "<style scoped>\n",
       "    .dataframe tbody tr th:only-of-type {\n",
       "        vertical-align: middle;\n",
       "    }\n",
       "\n",
       "    .dataframe tbody tr th {\n",
       "        vertical-align: top;\n",
       "    }\n",
       "\n",
       "    .dataframe thead th {\n",
       "        text-align: right;\n",
       "    }\n",
       "</style>\n",
       "<table border=\"1\" class=\"dataframe\">\n",
       "  <thead>\n",
       "    <tr style=\"text-align: right;\">\n",
       "      <th></th>\n",
       "      <th>Poster_Link</th>\n",
       "      <th>Series_Title</th>\n",
       "      <th>Runtime_of_Series</th>\n",
       "      <th>Certificate</th>\n",
       "      <th>Runtime_of_Episodes</th>\n",
       "      <th>Genre</th>\n",
       "      <th>IMDB_Rating</th>\n",
       "      <th>Overview</th>\n",
       "      <th>Star1</th>\n",
       "      <th>Star2</th>\n",
       "      <th>Star3</th>\n",
       "      <th>Star4</th>\n",
       "      <th>No_of_Votes</th>\n",
       "    </tr>\n",
       "  </thead>\n",
       "  <tbody>\n",
       "    <tr>\n",
       "      <th>0</th>\n",
       "      <td>https://m.media-amazon.com/images/M/MV5BYTRiND...</td>\n",
       "      <td>Game of Thrones</td>\n",
       "      <td>(2011–2019)</td>\n",
       "      <td>A</td>\n",
       "      <td>57 min</td>\n",
       "      <td>Action, Adventure, Drama</td>\n",
       "      <td>9.3</td>\n",
       "      <td>Nine noble families fight for control over the...</td>\n",
       "      <td>Emilia Clarke</td>\n",
       "      <td>Peter Dinklage</td>\n",
       "      <td>Kit Harington</td>\n",
       "      <td>Lena Headey</td>\n",
       "      <td>1773458</td>\n",
       "    </tr>\n",
       "    <tr>\n",
       "      <th>1</th>\n",
       "      <td>https://m.media-amazon.com/images/M/MV5BMjhiMz...</td>\n",
       "      <td>Breaking Bad</td>\n",
       "      <td>(2008–2013)</td>\n",
       "      <td>18</td>\n",
       "      <td>49 min</td>\n",
       "      <td>Crime, Drama, Thriller</td>\n",
       "      <td>9.5</td>\n",
       "      <td>A high school chemistry teacher diagnosed with...</td>\n",
       "      <td>Bryan Cranston</td>\n",
       "      <td>Aaron Paul</td>\n",
       "      <td>Anna Gunn</td>\n",
       "      <td>Betsy Brandt</td>\n",
       "      <td>1468887</td>\n",
       "    </tr>\n",
       "    <tr>\n",
       "      <th>2</th>\n",
       "      <td>https://m.media-amazon.com/images/M/MV5BMTc5Zm...</td>\n",
       "      <td>The Walking Dead</td>\n",
       "      <td>(2010– )</td>\n",
       "      <td>18+</td>\n",
       "      <td>44 min</td>\n",
       "      <td>Drama, Horror, Thriller</td>\n",
       "      <td>8.2</td>\n",
       "      <td>Sheriff Deputy Rick Grimes wakes up from a com...</td>\n",
       "      <td>Andrew Lincoln</td>\n",
       "      <td>Norman Reedus</td>\n",
       "      <td>Melissa McBride</td>\n",
       "      <td>Danai Gurira</td>\n",
       "      <td>854698</td>\n",
       "    </tr>\n",
       "  </tbody>\n",
       "</table>\n",
       "</div>"
      ],
      "text/plain": [
       "                                         Poster_Link      Series_Title  \\\n",
       "0  https://m.media-amazon.com/images/M/MV5BYTRiND...   Game of Thrones   \n",
       "1  https://m.media-amazon.com/images/M/MV5BMjhiMz...      Breaking Bad   \n",
       "2  https://m.media-amazon.com/images/M/MV5BMTc5Zm...  The Walking Dead   \n",
       "\n",
       "  Runtime_of_Series Certificate Runtime_of_Episodes                     Genre  \\\n",
       "0       (2011–2019)           A              57 min  Action, Adventure, Drama   \n",
       "1       (2008–2013)          18              49 min    Crime, Drama, Thriller   \n",
       "2          (2010– )         18+              44 min   Drama, Horror, Thriller   \n",
       "\n",
       "   IMDB_Rating                                           Overview  \\\n",
       "0          9.3  Nine noble families fight for control over the...   \n",
       "1          9.5  A high school chemistry teacher diagnosed with...   \n",
       "2          8.2  Sheriff Deputy Rick Grimes wakes up from a com...   \n",
       "\n",
       "            Star1           Star2            Star3         Star4  No_of_Votes  \n",
       "0   Emilia Clarke  Peter Dinklage    Kit Harington   Lena Headey      1773458  \n",
       "1  Bryan Cranston      Aaron Paul        Anna Gunn  Betsy Brandt      1468887  \n",
       "2  Andrew Lincoln   Norman Reedus  Melissa McBride  Danai Gurira       854698  "
      ]
     },
     "execution_count": 30,
     "metadata": {},
     "output_type": "execute_result"
    }
   ],
   "source": [
    "print(\"Series Data:\")\n",
    "series_data.head(3)"
   ]
  },
  {
   "cell_type": "code",
   "execution_count": 31,
   "metadata": {},
   "outputs": [
    {
     "name": "stdout",
     "output_type": "stream",
     "text": [
      "\n",
      "Series:\n"
     ]
    },
    {
     "data": {
      "text/html": [
       "<div>\n",
       "<style scoped>\n",
       "    .dataframe tbody tr th:only-of-type {\n",
       "        vertical-align: middle;\n",
       "    }\n",
       "\n",
       "    .dataframe tbody tr th {\n",
       "        vertical-align: top;\n",
       "    }\n",
       "\n",
       "    .dataframe thead th {\n",
       "        text-align: right;\n",
       "    }\n",
       "</style>\n",
       "<table border=\"1\" class=\"dataframe\">\n",
       "  <thead>\n",
       "    <tr style=\"text-align: right;\">\n",
       "      <th></th>\n",
       "      <th>Series Title</th>\n",
       "      <th>Release Year</th>\n",
       "      <th>Runtime</th>\n",
       "      <th>Genre</th>\n",
       "      <th>Rating</th>\n",
       "      <th>Cast</th>\n",
       "      <th>Synopsis</th>\n",
       "    </tr>\n",
       "  </thead>\n",
       "  <tbody>\n",
       "    <tr>\n",
       "      <th>0</th>\n",
       "      <td>Wednesday</td>\n",
       "      <td>(2022– )</td>\n",
       "      <td>45 min</td>\n",
       "      <td>Comedy, Crime, Fantasy</td>\n",
       "      <td>8.2</td>\n",
       "      <td>Jenna Ortega, Hunter Doohan, Percy Hynes White...</td>\n",
       "      <td>Follows Wednesday Addams' years as a student, ...</td>\n",
       "    </tr>\n",
       "    <tr>\n",
       "      <th>1</th>\n",
       "      <td>Yellowstone</td>\n",
       "      <td>(2018– )</td>\n",
       "      <td>60 min</td>\n",
       "      <td>Drama, Western</td>\n",
       "      <td>8.7</td>\n",
       "      <td>Kevin Costner, Luke Grimes, Kelly Reilly, Wes ...</td>\n",
       "      <td>A ranching family in Montana faces off against...</td>\n",
       "    </tr>\n",
       "    <tr>\n",
       "      <th>2</th>\n",
       "      <td>The White Lotus</td>\n",
       "      <td>(2021–2023)</td>\n",
       "      <td>60 min</td>\n",
       "      <td>Comedy, Drama</td>\n",
       "      <td>7.9</td>\n",
       "      <td>Jennifer Coolidge, Jon Gries, F. Murray Abraha...</td>\n",
       "      <td>Set in a tropical resort, it follows the explo...</td>\n",
       "    </tr>\n",
       "  </tbody>\n",
       "</table>\n",
       "</div>"
      ],
      "text/plain": [
       "      Series Title Release Year Runtime                   Genre Rating  \\\n",
       "0        Wednesday     (2022– )  45 min  Comedy, Crime, Fantasy    8.2   \n",
       "1      Yellowstone     (2018– )  60 min          Drama, Western    8.7   \n",
       "2  The White Lotus  (2021–2023)  60 min           Comedy, Drama    7.9   \n",
       "\n",
       "                                                Cast  \\\n",
       "0  Jenna Ortega, Hunter Doohan, Percy Hynes White...   \n",
       "1  Kevin Costner, Luke Grimes, Kelly Reilly, Wes ...   \n",
       "2  Jennifer Coolidge, Jon Gries, F. Murray Abraha...   \n",
       "\n",
       "                                            Synopsis  \n",
       "0  Follows Wednesday Addams' years as a student, ...  \n",
       "1  A ranching family in Montana faces off against...  \n",
       "2  Set in a tropical resort, it follows the explo...  "
      ]
     },
     "execution_count": 31,
     "metadata": {},
     "output_type": "execute_result"
    }
   ],
   "source": [
    "print(\"\\nSeries:\")\n",
    "series.head(3)"
   ]
  },
  {
   "cell_type": "code",
   "execution_count": 32,
   "metadata": {},
   "outputs": [
    {
     "name": "stdout",
     "output_type": "stream",
     "text": [
      "\n",
      "Archive Data:\n"
     ]
    },
    {
     "data": {
      "text/html": [
       "<div>\n",
       "<style scoped>\n",
       "    .dataframe tbody tr th:only-of-type {\n",
       "        vertical-align: middle;\n",
       "    }\n",
       "\n",
       "    .dataframe tbody tr th {\n",
       "        vertical-align: top;\n",
       "    }\n",
       "\n",
       "    .dataframe thead th {\n",
       "        text-align: right;\n",
       "    }\n",
       "</style>\n",
       "<table border=\"1\" class=\"dataframe\">\n",
       "  <thead>\n",
       "    <tr style=\"text-align: right;\">\n",
       "      <th></th>\n",
       "      <th>Title</th>\n",
       "      <th>IMDb ID</th>\n",
       "      <th>Release Year</th>\n",
       "      <th>Genre</th>\n",
       "      <th>Cast</th>\n",
       "      <th>Synopsis</th>\n",
       "      <th>Rating</th>\n",
       "      <th>Runtime</th>\n",
       "      <th>Certificate</th>\n",
       "      <th>Number of Votes</th>\n",
       "      <th>Gross Revenue</th>\n",
       "      <th>UniqueValue</th>\n",
       "    </tr>\n",
       "  </thead>\n",
       "  <tbody>\n",
       "    <tr>\n",
       "      <th>0</th>\n",
       "      <td>Spider-Man: Across the Spider-Verse</td>\n",
       "      <td>tt9362722</td>\n",
       "      <td>2023</td>\n",
       "      <td>Animation, Action, Adventure</td>\n",
       "      <td>Directors:, Joaquim Dos Santos, , Kemp Powers,...</td>\n",
       "      <td>Miles Morales catapults across the Multiverse,...</td>\n",
       "      <td>9.1</td>\n",
       "      <td>140 min</td>\n",
       "      <td>PG</td>\n",
       "      <td>71960</td>\n",
       "      <td>NaN</td>\n",
       "      <td>action_series</td>\n",
       "    </tr>\n",
       "    <tr>\n",
       "      <th>1</th>\n",
       "      <td>FUBAR</td>\n",
       "      <td>tt13064902</td>\n",
       "      <td>2023–</td>\n",
       "      <td>Action, Adventure, Thriller</td>\n",
       "      <td>Stars:, Arnold Schwarzenegger, , Monica Barbar...</td>\n",
       "      <td>A C.I.A. operative on the edge of retirement d...</td>\n",
       "      <td>6.5</td>\n",
       "      <td>NaN</td>\n",
       "      <td>TV-MA</td>\n",
       "      <td>15422</td>\n",
       "      <td>NaN</td>\n",
       "      <td>action_series</td>\n",
       "    </tr>\n",
       "    <tr>\n",
       "      <th>2</th>\n",
       "      <td>Barry</td>\n",
       "      <td>tt5348176</td>\n",
       "      <td>2018–2023</td>\n",
       "      <td>Action, Comedy, Crime</td>\n",
       "      <td>Stars:, Bill Hader, , Stephen Root, , Sarah Go...</td>\n",
       "      <td>A hit man from the Midwest moves to Los Angele...</td>\n",
       "      <td>8.4</td>\n",
       "      <td>30 min</td>\n",
       "      <td>TV-MA</td>\n",
       "      <td>101883</td>\n",
       "      <td>NaN</td>\n",
       "      <td>action_series</td>\n",
       "    </tr>\n",
       "  </tbody>\n",
       "</table>\n",
       "</div>"
      ],
      "text/plain": [
       "                                 Title     IMDb ID Release Year  \\\n",
       "0  Spider-Man: Across the Spider-Verse   tt9362722         2023   \n",
       "1                                FUBAR  tt13064902       2023–    \n",
       "2                                Barry   tt5348176    2018–2023   \n",
       "\n",
       "                          Genre  \\\n",
       "0  Animation, Action, Adventure   \n",
       "1   Action, Adventure, Thriller   \n",
       "2         Action, Comedy, Crime   \n",
       "\n",
       "                                                Cast  \\\n",
       "0  Directors:, Joaquim Dos Santos, , Kemp Powers,...   \n",
       "1  Stars:, Arnold Schwarzenegger, , Monica Barbar...   \n",
       "2  Stars:, Bill Hader, , Stephen Root, , Sarah Go...   \n",
       "\n",
       "                                            Synopsis  Rating  Runtime  \\\n",
       "0  Miles Morales catapults across the Multiverse,...     9.1  140 min   \n",
       "1  A C.I.A. operative on the edge of retirement d...     6.5      NaN   \n",
       "2  A hit man from the Midwest moves to Los Angele...     8.4   30 min   \n",
       "\n",
       "  Certificate Number of Votes Gross Revenue    UniqueValue  \n",
       "0          PG           71960           NaN  action_series  \n",
       "1       TV-MA           15422           NaN  action_series  \n",
       "2       TV-MA          101883           NaN  action_series  "
      ]
     },
     "execution_count": 32,
     "metadata": {},
     "output_type": "execute_result"
    }
   ],
   "source": [
    "print(\"\\nArchive Data:\")\n",
    "archive_data.head(3)"
   ]
  },
  {
   "cell_type": "markdown",
   "metadata": {},
   "source": [
    "There are some features that have different names but they are similar, for that, before merging all the datasets we need to:\n",
    "- treat the NaN values;\n",
    "- duplicate rows;\n",
    "- delete link and other irrelevant variables;\n",
    "- change the variables names."
   ]
  },
  {
   "cell_type": "markdown",
   "metadata": {},
   "source": [
    "\n",
    "-------------------------------------\n",
    "# 3. Preprocessing <a class=\"anchor\" id=\"chapter3\"></a>\n",
    "Let's start with the preprocess of each dataset. This is done individualy to be easier then to merge all the information about each book.\n",
    "\n",
    "## 3.1. Series Dataset <a class=\"anchor\" id=\"section_3_1\"></a>\n",
    "Using the info() method we are able to check missing values and also the datatypes. "
   ]
  },
  {
   "cell_type": "code",
   "execution_count": 33,
   "metadata": {},
   "outputs": [
    {
     "data": {
      "text/html": [
       "<div>\n",
       "<style scoped>\n",
       "    .dataframe tbody tr th:only-of-type {\n",
       "        vertical-align: middle;\n",
       "    }\n",
       "\n",
       "    .dataframe tbody tr th {\n",
       "        vertical-align: top;\n",
       "    }\n",
       "\n",
       "    .dataframe thead th {\n",
       "        text-align: right;\n",
       "    }\n",
       "</style>\n",
       "<table border=\"1\" class=\"dataframe\">\n",
       "  <thead>\n",
       "    <tr style=\"text-align: right;\">\n",
       "      <th></th>\n",
       "      <th>Series Title</th>\n",
       "      <th>Release Year</th>\n",
       "      <th>Runtime</th>\n",
       "      <th>Genre</th>\n",
       "      <th>Rating</th>\n",
       "      <th>Cast</th>\n",
       "      <th>Synopsis</th>\n",
       "    </tr>\n",
       "  </thead>\n",
       "  <tbody>\n",
       "    <tr>\n",
       "      <th>0</th>\n",
       "      <td>Wednesday</td>\n",
       "      <td>(2022– )</td>\n",
       "      <td>45 min</td>\n",
       "      <td>Comedy, Crime, Fantasy</td>\n",
       "      <td>8.2</td>\n",
       "      <td>Jenna Ortega, Hunter Doohan, Percy Hynes White...</td>\n",
       "      <td>Follows Wednesday Addams' years as a student, ...</td>\n",
       "    </tr>\n",
       "    <tr>\n",
       "      <th>1</th>\n",
       "      <td>Yellowstone</td>\n",
       "      <td>(2018– )</td>\n",
       "      <td>60 min</td>\n",
       "      <td>Drama, Western</td>\n",
       "      <td>8.7</td>\n",
       "      <td>Kevin Costner, Luke Grimes, Kelly Reilly, Wes ...</td>\n",
       "      <td>A ranching family in Montana faces off against...</td>\n",
       "    </tr>\n",
       "    <tr>\n",
       "      <th>2</th>\n",
       "      <td>The White Lotus</td>\n",
       "      <td>(2021–2023)</td>\n",
       "      <td>60 min</td>\n",
       "      <td>Comedy, Drama</td>\n",
       "      <td>7.9</td>\n",
       "      <td>Jennifer Coolidge, Jon Gries, F. Murray Abraha...</td>\n",
       "      <td>Set in a tropical resort, it follows the explo...</td>\n",
       "    </tr>\n",
       "  </tbody>\n",
       "</table>\n",
       "</div>"
      ],
      "text/plain": [
       "      Series Title Release Year Runtime                   Genre Rating  \\\n",
       "0        Wednesday     (2022– )  45 min  Comedy, Crime, Fantasy    8.2   \n",
       "1      Yellowstone     (2018– )  60 min          Drama, Western    8.7   \n",
       "2  The White Lotus  (2021–2023)  60 min           Comedy, Drama    7.9   \n",
       "\n",
       "                                                Cast  \\\n",
       "0  Jenna Ortega, Hunter Doohan, Percy Hynes White...   \n",
       "1  Kevin Costner, Luke Grimes, Kelly Reilly, Wes ...   \n",
       "2  Jennifer Coolidge, Jon Gries, F. Murray Abraha...   \n",
       "\n",
       "                                            Synopsis  \n",
       "0  Follows Wednesday Addams' years as a student, ...  \n",
       "1  A ranching family in Montana faces off against...  \n",
       "2  Set in a tropical resort, it follows the explo...  "
      ]
     },
     "execution_count": 33,
     "metadata": {},
     "output_type": "execute_result"
    }
   ],
   "source": [
    "series.head(3)"
   ]
  },
  {
   "cell_type": "code",
   "execution_count": 34,
   "metadata": {},
   "outputs": [
    {
     "name": "stdout",
     "output_type": "stream",
     "text": [
      "<class 'pandas.core.frame.DataFrame'>\n",
      "RangeIndex: 50000 entries, 0 to 49999\n",
      "Data columns (total 7 columns):\n",
      " #   Column        Non-Null Count  Dtype \n",
      "---  ------        --------------  ----- \n",
      " 0   Series Title  50000 non-null  object\n",
      " 1   Release Year  49800 non-null  object\n",
      " 2   Runtime       50000 non-null  object\n",
      " 3   Genre         50000 non-null  object\n",
      " 4   Rating        50000 non-null  object\n",
      " 5   Cast          49909 non-null  object\n",
      " 6   Synopsis      50000 non-null  object\n",
      "dtypes: object(7)\n",
      "memory usage: 2.7+ MB\n"
     ]
    }
   ],
   "source": [
    "series.info()"
   ]
  },
  {
   "cell_type": "markdown",
   "metadata": {},
   "source": [
    "We have some missing values. Since we have a lot of data we will delete all those rows that have null values."
   ]
  },
  {
   "cell_type": "code",
   "execution_count": 35,
   "metadata": {},
   "outputs": [],
   "source": [
    "series.dropna(inplace=True)"
   ]
  },
  {
   "cell_type": "code",
   "execution_count": 36,
   "metadata": {},
   "outputs": [
    {
     "data": {
      "text/plain": [
       "count          49744\n",
       "unique          9406\n",
       "top       The Office\n",
       "freq             804\n",
       "Name: Series Title, dtype: object"
      ]
     },
     "execution_count": 36,
     "metadata": {},
     "output_type": "execute_result"
    }
   ],
   "source": [
    "series['Series Title'].describe()"
   ]
  },
  {
   "cell_type": "markdown",
   "metadata": {},
   "source": [
    "Also it is important that the same features has same name. So we will rename the following features."
   ]
  },
  {
   "cell_type": "code",
   "execution_count": 37,
   "metadata": {},
   "outputs": [],
   "source": [
    "series.rename(columns={'Series Title': 'Series_title', \n",
    "                       'Release Year': 'Release_year'}, inplace=True)"
   ]
  },
  {
   "cell_type": "markdown",
   "metadata": {},
   "source": [
    "Now we can advance to the next preprocessing.\n",
    "## 3.2. Series_data Dataset <a class=\"anchor\" id=\"section_3_2\"></a>\n",
    "Let's start visualizing the dataset."
   ]
  },
  {
   "cell_type": "code",
   "execution_count": 38,
   "metadata": {},
   "outputs": [
    {
     "data": {
      "text/html": [
       "<div>\n",
       "<style scoped>\n",
       "    .dataframe tbody tr th:only-of-type {\n",
       "        vertical-align: middle;\n",
       "    }\n",
       "\n",
       "    .dataframe tbody tr th {\n",
       "        vertical-align: top;\n",
       "    }\n",
       "\n",
       "    .dataframe thead th {\n",
       "        text-align: right;\n",
       "    }\n",
       "</style>\n",
       "<table border=\"1\" class=\"dataframe\">\n",
       "  <thead>\n",
       "    <tr style=\"text-align: right;\">\n",
       "      <th></th>\n",
       "      <th>Poster_Link</th>\n",
       "      <th>Series_Title</th>\n",
       "      <th>Runtime_of_Series</th>\n",
       "      <th>Certificate</th>\n",
       "      <th>Runtime_of_Episodes</th>\n",
       "      <th>Genre</th>\n",
       "      <th>IMDB_Rating</th>\n",
       "      <th>Overview</th>\n",
       "      <th>Star1</th>\n",
       "      <th>Star2</th>\n",
       "      <th>Star3</th>\n",
       "      <th>Star4</th>\n",
       "      <th>No_of_Votes</th>\n",
       "    </tr>\n",
       "  </thead>\n",
       "  <tbody>\n",
       "    <tr>\n",
       "      <th>0</th>\n",
       "      <td>https://m.media-amazon.com/images/M/MV5BYTRiND...</td>\n",
       "      <td>Game of Thrones</td>\n",
       "      <td>(2011–2019)</td>\n",
       "      <td>A</td>\n",
       "      <td>57 min</td>\n",
       "      <td>Action, Adventure, Drama</td>\n",
       "      <td>9.3</td>\n",
       "      <td>Nine noble families fight for control over the...</td>\n",
       "      <td>Emilia Clarke</td>\n",
       "      <td>Peter Dinklage</td>\n",
       "      <td>Kit Harington</td>\n",
       "      <td>Lena Headey</td>\n",
       "      <td>1773458</td>\n",
       "    </tr>\n",
       "    <tr>\n",
       "      <th>1</th>\n",
       "      <td>https://m.media-amazon.com/images/M/MV5BMjhiMz...</td>\n",
       "      <td>Breaking Bad</td>\n",
       "      <td>(2008–2013)</td>\n",
       "      <td>18</td>\n",
       "      <td>49 min</td>\n",
       "      <td>Crime, Drama, Thriller</td>\n",
       "      <td>9.5</td>\n",
       "      <td>A high school chemistry teacher diagnosed with...</td>\n",
       "      <td>Bryan Cranston</td>\n",
       "      <td>Aaron Paul</td>\n",
       "      <td>Anna Gunn</td>\n",
       "      <td>Betsy Brandt</td>\n",
       "      <td>1468887</td>\n",
       "    </tr>\n",
       "    <tr>\n",
       "      <th>2</th>\n",
       "      <td>https://m.media-amazon.com/images/M/MV5BMTc5Zm...</td>\n",
       "      <td>The Walking Dead</td>\n",
       "      <td>(2010– )</td>\n",
       "      <td>18+</td>\n",
       "      <td>44 min</td>\n",
       "      <td>Drama, Horror, Thriller</td>\n",
       "      <td>8.2</td>\n",
       "      <td>Sheriff Deputy Rick Grimes wakes up from a com...</td>\n",
       "      <td>Andrew Lincoln</td>\n",
       "      <td>Norman Reedus</td>\n",
       "      <td>Melissa McBride</td>\n",
       "      <td>Danai Gurira</td>\n",
       "      <td>854698</td>\n",
       "    </tr>\n",
       "  </tbody>\n",
       "</table>\n",
       "</div>"
      ],
      "text/plain": [
       "                                         Poster_Link      Series_Title  \\\n",
       "0  https://m.media-amazon.com/images/M/MV5BYTRiND...   Game of Thrones   \n",
       "1  https://m.media-amazon.com/images/M/MV5BMjhiMz...      Breaking Bad   \n",
       "2  https://m.media-amazon.com/images/M/MV5BMTc5Zm...  The Walking Dead   \n",
       "\n",
       "  Runtime_of_Series Certificate Runtime_of_Episodes                     Genre  \\\n",
       "0       (2011–2019)           A              57 min  Action, Adventure, Drama   \n",
       "1       (2008–2013)          18              49 min    Crime, Drama, Thriller   \n",
       "2          (2010– )         18+              44 min   Drama, Horror, Thriller   \n",
       "\n",
       "   IMDB_Rating                                           Overview  \\\n",
       "0          9.3  Nine noble families fight for control over the...   \n",
       "1          9.5  A high school chemistry teacher diagnosed with...   \n",
       "2          8.2  Sheriff Deputy Rick Grimes wakes up from a com...   \n",
       "\n",
       "            Star1           Star2            Star3         Star4  No_of_Votes  \n",
       "0   Emilia Clarke  Peter Dinklage    Kit Harington   Lena Headey      1773458  \n",
       "1  Bryan Cranston      Aaron Paul        Anna Gunn  Betsy Brandt      1468887  \n",
       "2  Andrew Lincoln   Norman Reedus  Melissa McBride  Danai Gurira       854698  "
      ]
     },
     "execution_count": 38,
     "metadata": {},
     "output_type": "execute_result"
    }
   ],
   "source": [
    "series_data.head(3)"
   ]
  },
  {
   "cell_type": "code",
   "execution_count": 39,
   "metadata": {},
   "outputs": [
    {
     "name": "stdout",
     "output_type": "stream",
     "text": [
      "<class 'pandas.core.frame.DataFrame'>\n",
      "RangeIndex: 2000 entries, 0 to 1999\n",
      "Data columns (total 13 columns):\n",
      " #   Column               Non-Null Count  Dtype  \n",
      "---  ------               --------------  -----  \n",
      " 0   Poster_Link          2000 non-null   object \n",
      " 1   Series_Title         2000 non-null   object \n",
      " 2   Runtime_of_Series    2000 non-null   object \n",
      " 3   Certificate          703 non-null    object \n",
      " 4   Runtime_of_Episodes  1957 non-null   object \n",
      " 5   Genre                2000 non-null   object \n",
      " 6   IMDB_Rating          2000 non-null   float64\n",
      " 7   Overview             2000 non-null   object \n",
      " 8   Star1                2000 non-null   object \n",
      " 9   Star2                2000 non-null   object \n",
      " 10  Star3                1999 non-null   object \n",
      " 11  Star4                1995 non-null   object \n",
      " 12  No_of_Votes          2000 non-null   int64  \n",
      "dtypes: float64(1), int64(1), object(11)\n",
      "memory usage: 203.3+ KB\n"
     ]
    }
   ],
   "source": [
    "series_data.info()"
   ]
  },
  {
   "cell_type": "markdown",
   "metadata": {},
   "source": [
    "As we can see by using head() and info() we can eliminate Certificate and Poster_link. <br>\n",
    "We can also create a feature, already in the previous dataset named \"Cast\" by merging Star1, Star2, Star3 and Star4. <br>\n",
    "Also, we can change the name of Series_Title to \"Series_title\", Runtime_of_series to \"Release_year\", and Overview to \"Synopsis\" <br>\n",
    "And finally, drop missing values."
   ]
  },
  {
   "cell_type": "code",
   "execution_count": 40,
   "metadata": {},
   "outputs": [],
   "source": [
    "series_data.drop(columns=['Certificate', 'Poster_Link','No_of_Votes_IMDB'], inplace=True, errors='ignore')"
   ]
  },
  {
   "cell_type": "code",
   "execution_count": 41,
   "metadata": {},
   "outputs": [],
   "source": [
    "series_data['Cast'] = series_data[['Star1', 'Star2', 'Star3', 'Star4']].fillna('').agg(', '.join, axis=1)\n",
    "# Drop individual star columns\n",
    "series_data.drop(['Star1', 'Star2', 'Star3', 'Star4'], axis=1, inplace=True)"
   ]
  },
  {
   "cell_type": "code",
   "execution_count": 42,
   "metadata": {},
   "outputs": [],
   "source": [
    "# Rename columns\n",
    "series_data.rename(columns={'Series_Title': 'Series_title', 'Runtime_of_Series': 'Release_year', 'Overview': 'Synopsis', 'Runtime_of_Episodes': \"Runtime\", 'No_of_Votes':'No_of_Votes_IMDB'}, inplace=True)"
   ]
  },
  {
   "cell_type": "code",
   "execution_count": 43,
   "metadata": {},
   "outputs": [],
   "source": [
    "series_data.dropna(inplace=True)"
   ]
  },
  {
   "cell_type": "code",
   "execution_count": 44,
   "metadata": {},
   "outputs": [
    {
     "data": {
      "text/html": [
       "<div>\n",
       "<style scoped>\n",
       "    .dataframe tbody tr th:only-of-type {\n",
       "        vertical-align: middle;\n",
       "    }\n",
       "\n",
       "    .dataframe tbody tr th {\n",
       "        vertical-align: top;\n",
       "    }\n",
       "\n",
       "    .dataframe thead th {\n",
       "        text-align: right;\n",
       "    }\n",
       "</style>\n",
       "<table border=\"1\" class=\"dataframe\">\n",
       "  <thead>\n",
       "    <tr style=\"text-align: right;\">\n",
       "      <th></th>\n",
       "      <th>Series_title</th>\n",
       "      <th>Release_year</th>\n",
       "      <th>Runtime</th>\n",
       "      <th>Genre</th>\n",
       "      <th>IMDB_Rating</th>\n",
       "      <th>Synopsis</th>\n",
       "      <th>No_of_Votes_IMDB</th>\n",
       "      <th>Cast</th>\n",
       "    </tr>\n",
       "  </thead>\n",
       "  <tbody>\n",
       "    <tr>\n",
       "      <th>0</th>\n",
       "      <td>Game of Thrones</td>\n",
       "      <td>(2011–2019)</td>\n",
       "      <td>57 min</td>\n",
       "      <td>Action, Adventure, Drama</td>\n",
       "      <td>9.3</td>\n",
       "      <td>Nine noble families fight for control over the...</td>\n",
       "      <td>1773458</td>\n",
       "      <td>Emilia Clarke, Peter Dinklage, Kit Harington, ...</td>\n",
       "    </tr>\n",
       "    <tr>\n",
       "      <th>1</th>\n",
       "      <td>Breaking Bad</td>\n",
       "      <td>(2008–2013)</td>\n",
       "      <td>49 min</td>\n",
       "      <td>Crime, Drama, Thriller</td>\n",
       "      <td>9.5</td>\n",
       "      <td>A high school chemistry teacher diagnosed with...</td>\n",
       "      <td>1468887</td>\n",
       "      <td>Bryan Cranston, Aaron Paul, Anna Gunn, Betsy B...</td>\n",
       "    </tr>\n",
       "    <tr>\n",
       "      <th>2</th>\n",
       "      <td>The Walking Dead</td>\n",
       "      <td>(2010– )</td>\n",
       "      <td>44 min</td>\n",
       "      <td>Drama, Horror, Thriller</td>\n",
       "      <td>8.2</td>\n",
       "      <td>Sheriff Deputy Rick Grimes wakes up from a com...</td>\n",
       "      <td>854698</td>\n",
       "      <td>Andrew Lincoln, Norman Reedus, Melissa McBride...</td>\n",
       "    </tr>\n",
       "  </tbody>\n",
       "</table>\n",
       "</div>"
      ],
      "text/plain": [
       "       Series_title Release_year Runtime                     Genre  \\\n",
       "0   Game of Thrones  (2011–2019)  57 min  Action, Adventure, Drama   \n",
       "1      Breaking Bad  (2008–2013)  49 min    Crime, Drama, Thriller   \n",
       "2  The Walking Dead     (2010– )  44 min   Drama, Horror, Thriller   \n",
       "\n",
       "   IMDB_Rating                                           Synopsis  \\\n",
       "0          9.3  Nine noble families fight for control over the...   \n",
       "1          9.5  A high school chemistry teacher diagnosed with...   \n",
       "2          8.2  Sheriff Deputy Rick Grimes wakes up from a com...   \n",
       "\n",
       "   No_of_Votes_IMDB                                               Cast  \n",
       "0           1773458  Emilia Clarke, Peter Dinklage, Kit Harington, ...  \n",
       "1           1468887  Bryan Cranston, Aaron Paul, Anna Gunn, Betsy B...  \n",
       "2            854698  Andrew Lincoln, Norman Reedus, Melissa McBride...  "
      ]
     },
     "execution_count": 44,
     "metadata": {},
     "output_type": "execute_result"
    }
   ],
   "source": [
    "series_data.head(3)"
   ]
  },
  {
   "cell_type": "markdown",
   "metadata": {},
   "source": [
    "\n",
    "Now we can advance to the next preprocessing.\n",
    "## 3.3. Archice_data  Dataset <a class=\"anchor\" id=\"section_3_3\"></a>\n",
    "Let's start with the preprocessing of this dataset."
   ]
  },
  {
   "cell_type": "code",
   "execution_count": 45,
   "metadata": {},
   "outputs": [
    {
     "data": {
      "text/html": [
       "<div>\n",
       "<style scoped>\n",
       "    .dataframe tbody tr th:only-of-type {\n",
       "        vertical-align: middle;\n",
       "    }\n",
       "\n",
       "    .dataframe tbody tr th {\n",
       "        vertical-align: top;\n",
       "    }\n",
       "\n",
       "    .dataframe thead th {\n",
       "        text-align: right;\n",
       "    }\n",
       "</style>\n",
       "<table border=\"1\" class=\"dataframe\">\n",
       "  <thead>\n",
       "    <tr style=\"text-align: right;\">\n",
       "      <th></th>\n",
       "      <th>Title</th>\n",
       "      <th>IMDb ID</th>\n",
       "      <th>Release Year</th>\n",
       "      <th>Genre</th>\n",
       "      <th>Cast</th>\n",
       "      <th>Synopsis</th>\n",
       "      <th>Rating</th>\n",
       "      <th>Runtime</th>\n",
       "      <th>Certificate</th>\n",
       "      <th>Number of Votes</th>\n",
       "      <th>Gross Revenue</th>\n",
       "      <th>UniqueValue</th>\n",
       "    </tr>\n",
       "  </thead>\n",
       "  <tbody>\n",
       "    <tr>\n",
       "      <th>0</th>\n",
       "      <td>Spider-Man: Across the Spider-Verse</td>\n",
       "      <td>tt9362722</td>\n",
       "      <td>2023</td>\n",
       "      <td>Animation, Action, Adventure</td>\n",
       "      <td>Directors:, Joaquim Dos Santos, , Kemp Powers,...</td>\n",
       "      <td>Miles Morales catapults across the Multiverse,...</td>\n",
       "      <td>9.1</td>\n",
       "      <td>140 min</td>\n",
       "      <td>PG</td>\n",
       "      <td>71960</td>\n",
       "      <td>NaN</td>\n",
       "      <td>action_series</td>\n",
       "    </tr>\n",
       "    <tr>\n",
       "      <th>1</th>\n",
       "      <td>FUBAR</td>\n",
       "      <td>tt13064902</td>\n",
       "      <td>2023–</td>\n",
       "      <td>Action, Adventure, Thriller</td>\n",
       "      <td>Stars:, Arnold Schwarzenegger, , Monica Barbar...</td>\n",
       "      <td>A C.I.A. operative on the edge of retirement d...</td>\n",
       "      <td>6.5</td>\n",
       "      <td>NaN</td>\n",
       "      <td>TV-MA</td>\n",
       "      <td>15422</td>\n",
       "      <td>NaN</td>\n",
       "      <td>action_series</td>\n",
       "    </tr>\n",
       "    <tr>\n",
       "      <th>2</th>\n",
       "      <td>Barry</td>\n",
       "      <td>tt5348176</td>\n",
       "      <td>2018–2023</td>\n",
       "      <td>Action, Comedy, Crime</td>\n",
       "      <td>Stars:, Bill Hader, , Stephen Root, , Sarah Go...</td>\n",
       "      <td>A hit man from the Midwest moves to Los Angele...</td>\n",
       "      <td>8.4</td>\n",
       "      <td>30 min</td>\n",
       "      <td>TV-MA</td>\n",
       "      <td>101883</td>\n",
       "      <td>NaN</td>\n",
       "      <td>action_series</td>\n",
       "    </tr>\n",
       "  </tbody>\n",
       "</table>\n",
       "</div>"
      ],
      "text/plain": [
       "                                 Title     IMDb ID Release Year  \\\n",
       "0  Spider-Man: Across the Spider-Verse   tt9362722         2023   \n",
       "1                                FUBAR  tt13064902       2023–    \n",
       "2                                Barry   tt5348176    2018–2023   \n",
       "\n",
       "                          Genre  \\\n",
       "0  Animation, Action, Adventure   \n",
       "1   Action, Adventure, Thriller   \n",
       "2         Action, Comedy, Crime   \n",
       "\n",
       "                                                Cast  \\\n",
       "0  Directors:, Joaquim Dos Santos, , Kemp Powers,...   \n",
       "1  Stars:, Arnold Schwarzenegger, , Monica Barbar...   \n",
       "2  Stars:, Bill Hader, , Stephen Root, , Sarah Go...   \n",
       "\n",
       "                                            Synopsis  Rating  Runtime  \\\n",
       "0  Miles Morales catapults across the Multiverse,...     9.1  140 min   \n",
       "1  A C.I.A. operative on the edge of retirement d...     6.5      NaN   \n",
       "2  A hit man from the Midwest moves to Los Angele...     8.4   30 min   \n",
       "\n",
       "  Certificate Number of Votes Gross Revenue    UniqueValue  \n",
       "0          PG           71960           NaN  action_series  \n",
       "1       TV-MA           15422           NaN  action_series  \n",
       "2       TV-MA          101883           NaN  action_series  "
      ]
     },
     "execution_count": 45,
     "metadata": {},
     "output_type": "execute_result"
    }
   ],
   "source": [
    "archive_data.head(3)"
   ]
  },
  {
   "cell_type": "markdown",
   "metadata": {},
   "source": [
    "As we can see inside Cast we have directors and stars. For this we will create a separate feature for Directors and another for Stars(that will be the actual Cast column)"
   ]
  },
  {
   "cell_type": "code",
   "execution_count": 46,
   "metadata": {},
   "outputs": [
    {
     "data": {
      "text/plain": [
       "0         Directors:, Joaquim Dos Santos, , Kemp Powers,...\n",
       "1         Stars:, Arnold Schwarzenegger, , Monica Barbar...\n",
       "2         Stars:, Bill Hader, , Stephen Root, , Sarah Go...\n",
       "3         Director:, Chad Stahelski, | ,     Stars:, Kea...\n",
       "4         Director:, Louis Leterrier, | ,     Stars:, Vi...\n",
       "                                ...                        \n",
       "236823    Director:, Daniel Goldhaber, | ,     Stars:, A...\n",
       "236824    Stars:, Anson Mount, , Colm Meaney, , Robin Mc...\n",
       "236825    Director:, John Sturges, | ,     Stars:, Yul B...\n",
       "236826    Stars:, Frank McGrath, , Terry Wilson, , Rober...\n",
       "236827    Director:, Robert Rodriguez, | ,     Stars:, A...\n",
       "Name: Cast, Length: 236828, dtype: object"
      ]
     },
     "execution_count": 46,
     "metadata": {},
     "output_type": "execute_result"
    }
   ],
   "source": [
    "archive_data[\"Cast\"]"
   ]
  },
  {
   "cell_type": "code",
   "execution_count": 47,
   "metadata": {},
   "outputs": [],
   "source": [
    "# Extracting 'Directors' and 'Stars' information separately\n",
    "archive_data['Directors'] = archive_data['Cast'].str.extract(r'Director[s]*:([^|]*)', expand=False).str.strip()\n",
    "archive_data['Stars'] = archive_data['Cast'].str.extract(r'Stars:([^|]*)', expand=False).str.strip()\n",
    "\n",
    "# Drop the original 'Cast' column if needed\n",
    "archive_data.drop(columns=['Cast'], inplace=True)"
   ]
  },
  {
   "cell_type": "markdown",
   "metadata": {},
   "source": [
    "Using head() we can eliminate Certificate, Gross Revenue (since this isn't a features common in the other datasets) and UniqueValue. <br>\n",
    "Also, we can change the name of Title to \"Series_title\" and Release Year to \"Release_year\", Number of Votes to \"No_of_Votes\"and  Stars to \"Cast."
   ]
  },
  {
   "cell_type": "code",
   "execution_count": 48,
   "metadata": {},
   "outputs": [],
   "source": [
    "# Remove 'Certificate', 'Gross Revenue', and 'UniqueValue' columns\n",
    "archive_data.drop(columns=['Certificate', 'Gross Revenue', 'UniqueValue','IMDb ID','Number of Votes'], inplace=True, errors='ignore')"
   ]
  },
  {
   "cell_type": "code",
   "execution_count": 49,
   "metadata": {},
   "outputs": [],
   "source": [
    "# Rename columns\n",
    "archive_data.rename(columns={\n",
    "    'Title': 'Series_title',\n",
    "    'Release Year': 'Release_year',\n",
    "    'Stars': 'Cast'\n",
    "}, inplace=True)"
   ]
  },
  {
   "cell_type": "code",
   "execution_count": 50,
   "metadata": {},
   "outputs": [
    {
     "name": "stdout",
     "output_type": "stream",
     "text": [
      "<class 'pandas.core.frame.DataFrame'>\n",
      "RangeIndex: 236828 entries, 0 to 236827\n",
      "Data columns (total 8 columns):\n",
      " #   Column        Non-Null Count   Dtype  \n",
      "---  ------        --------------   -----  \n",
      " 0   Series_title  236828 non-null  object \n",
      " 1   Release_year  236819 non-null  object \n",
      " 2   Genre         236828 non-null  object \n",
      " 3   Synopsis      236828 non-null  object \n",
      " 4   Rating        236828 non-null  float64\n",
      " 5   Runtime       216983 non-null  object \n",
      " 6   Directors     165866 non-null  object \n",
      " 7   Cast          229850 non-null  object \n",
      "dtypes: float64(1), object(7)\n",
      "memory usage: 14.5+ MB\n"
     ]
    }
   ],
   "source": [
    "archive_data.info()"
   ]
  },
  {
   "cell_type": "code",
   "execution_count": 51,
   "metadata": {},
   "outputs": [],
   "source": [
    "archive_data.dropna(inplace=True)"
   ]
  },
  {
   "cell_type": "code",
   "execution_count": 52,
   "metadata": {},
   "outputs": [
    {
     "data": {
      "text/plain": [
       "70833"
      ]
     },
     "execution_count": 52,
     "metadata": {},
     "output_type": "execute_result"
    }
   ],
   "source": [
    "archive_data['Series_title'].nunique()"
   ]
  },
  {
   "cell_type": "markdown",
   "metadata": {},
   "source": [
    "---------------------------------------\n",
    "# 4. Merging the Datasets <a class=\"anchor\" id=\"chapter4\"></a>\n",
    "Now that we did the separated the preprocessing, we will merge by Series_title."
   ]
  },
  {
   "cell_type": "code",
   "execution_count": 53,
   "metadata": {},
   "outputs": [],
   "source": [
    "final_shows = pd.concat([archive_data, series, series_data])\n",
    "merged_data_tvshows = final_shows.groupby('Series_title').agg(lambda x: x.dropna().unique().tolist()).reset_index()"
   ]
  },
  {
   "cell_type": "code",
   "execution_count": 54,
   "metadata": {},
   "outputs": [
    {
     "data": {
      "text/html": [
       "<div>\n",
       "<style scoped>\n",
       "    .dataframe tbody tr th:only-of-type {\n",
       "        vertical-align: middle;\n",
       "    }\n",
       "\n",
       "    .dataframe tbody tr th {\n",
       "        vertical-align: top;\n",
       "    }\n",
       "\n",
       "    .dataframe thead th {\n",
       "        text-align: right;\n",
       "    }\n",
       "</style>\n",
       "<table border=\"1\" class=\"dataframe\">\n",
       "  <thead>\n",
       "    <tr style=\"text-align: right;\">\n",
       "      <th></th>\n",
       "      <th>Series_title</th>\n",
       "      <th>Release_year</th>\n",
       "      <th>Genre</th>\n",
       "      <th>Synopsis</th>\n",
       "      <th>Rating</th>\n",
       "      <th>Runtime</th>\n",
       "      <th>Directors</th>\n",
       "      <th>Cast</th>\n",
       "      <th>IMDB_Rating</th>\n",
       "      <th>No_of_Votes_IMDB</th>\n",
       "    </tr>\n",
       "  </thead>\n",
       "  <tbody>\n",
       "    <tr>\n",
       "      <th>0</th>\n",
       "      <td>Cheyenne</td>\n",
       "      <td>[1955–1963]</td>\n",
       "      <td>[Western]</td>\n",
       "      <td>[After a close friend of Cheyenne is killed du...</td>\n",
       "      <td>[7.6, 7.8]</td>\n",
       "      <td>[40 min, 60 min]</td>\n",
       "      <td>[, Richard L. Bare,]</td>\n",
       "      <td>[, Clint Walker, , Adele Mara, , L.Q. Jones, ,...</td>\n",
       "      <td>[]</td>\n",
       "      <td>[]</td>\n",
       "    </tr>\n",
       "    <tr>\n",
       "      <th>1</th>\n",
       "      <td>HBO Storybook Musicals</td>\n",
       "      <td>[1987– ]</td>\n",
       "      <td>[Animation, Family, Musical]</td>\n",
       "      <td>[Mike and his trusty shovel Mary Anne are know...</td>\n",
       "      <td>[7.7]</td>\n",
       "      <td>[26 min]</td>\n",
       "      <td>[, Michael Sporn,]</td>\n",
       "      <td>[, Robert Klein, , Jason Biggs, , Tina Fabriqu...</td>\n",
       "      <td>[]</td>\n",
       "      <td>[]</td>\n",
       "    </tr>\n",
       "    <tr>\n",
       "      <th>2</th>\n",
       "      <td>Jurassic World: Camp Cretaceous</td>\n",
       "      <td>[2020–2022]</td>\n",
       "      <td>[Animation, Action, Adventure]</td>\n",
       "      <td>[Based on the show Camp Cretaceous, Hidden Adv...</td>\n",
       "      <td>[7.1]</td>\n",
       "      <td>[32 min]</td>\n",
       "      <td>[, Leah Artwick, , Eric Elrod, , Michael Mulle...</td>\n",
       "      <td>[, Paul-Mikél Williams, , Sean Giambrone, , Ka...</td>\n",
       "      <td>[]</td>\n",
       "      <td>[]</td>\n",
       "    </tr>\n",
       "  </tbody>\n",
       "</table>\n",
       "</div>"
      ],
      "text/plain": [
       "                       Series_title Release_year  \\\n",
       "0                          Cheyenne  [1955–1963]   \n",
       "1            HBO Storybook Musicals     [1987– ]   \n",
       "2   Jurassic World: Camp Cretaceous  [2020–2022]   \n",
       "\n",
       "                            Genre  \\\n",
       "0                       [Western]   \n",
       "1    [Animation, Family, Musical]   \n",
       "2  [Animation, Action, Adventure]   \n",
       "\n",
       "                                            Synopsis      Rating  \\\n",
       "0  [After a close friend of Cheyenne is killed du...  [7.6, 7.8]   \n",
       "1  [Mike and his trusty shovel Mary Anne are know...       [7.7]   \n",
       "2  [Based on the show Camp Cretaceous, Hidden Adv...       [7.1]   \n",
       "\n",
       "            Runtime                                          Directors  \\\n",
       "0  [40 min, 60 min]                               [, Richard L. Bare,]   \n",
       "1          [26 min]                                 [, Michael Sporn,]   \n",
       "2          [32 min]  [, Leah Artwick, , Eric Elrod, , Michael Mulle...   \n",
       "\n",
       "                                                Cast IMDB_Rating  \\\n",
       "0  [, Clint Walker, , Adele Mara, , L.Q. Jones, ,...          []   \n",
       "1  [, Robert Klein, , Jason Biggs, , Tina Fabriqu...          []   \n",
       "2  [, Paul-Mikél Williams, , Sean Giambrone, , Ka...          []   \n",
       "\n",
       "  No_of_Votes_IMDB  \n",
       "0               []  \n",
       "1               []  \n",
       "2               []  "
      ]
     },
     "execution_count": 54,
     "metadata": {},
     "output_type": "execute_result"
    }
   ],
   "source": [
    "merged_data_tvshows.head(3)"
   ]
  },
  {
   "cell_type": "code",
   "execution_count": 55,
   "metadata": {},
   "outputs": [
    {
     "data": {
      "text/plain": [
       "Index(['Series_title', 'Release_year', 'Genre', 'Synopsis', 'Rating',\n",
       "       'Runtime', 'Directors', 'Cast', 'IMDB_Rating', 'No_of_Votes_IMDB'],\n",
       "      dtype='object')"
      ]
     },
     "execution_count": 55,
     "metadata": {},
     "output_type": "execute_result"
    }
   ],
   "source": [
    "merged_data_tvshows.columns"
   ]
  },
  {
   "cell_type": "markdown",
   "metadata": {},
   "source": [
    "Using the head() we have some main things to solve in this dataset:\n",
    "- setting empty columns to zero;\n",
    "- take out the brackets;\n",
    "- analyse the existing categories;\n",
    "- create CritiScore.\n",
    "\n",
    "## 4.1. Cleaning the Merged Dataset <a class=\"anchor\" id=\"section_4_1\"></a>\n",
    "In this subsection we wil do some cleaning steps, as setting empty columns to zero, remove brackets, cleaning text, changing variable names, and other relevant steps. <br>\n",
    "There are still some things that we can do for your dataset:\n",
    "1. Set empty lists to zero: To replace empty lists with zeros in the DataFrame, we can use the apply function to identify and replace the empty lists in specific columns.\n",
    "\n",
    "2. Extract numbers from 'Runtime': We'll extract the numerical values from the 'Runtime' column by removing the 'min' text.\n",
    "\n",
    "3. Convert columns containing lists into numbers: We'll convert the columns 'Rating', 'No_of_Votes_Rating', 'IMDB_Rating', 'No_of_Votes_IMDB' from lists to individual numerical values."
   ]
  },
  {
   "cell_type": "code",
   "execution_count": 56,
   "metadata": {},
   "outputs": [
    {
     "name": "stderr",
     "output_type": "stream",
     "text": [
      "C:\\Users\\xandg\\AppData\\Local\\Temp\\ipykernel_31092\\3625816130.py:11: FutureWarning: DataFrame.applymap has been deprecated. Use DataFrame.map instead.\n",
      "  merged_data_tvshows = merged_data_tvshows.applymap(join_elements)\n"
     ]
    }
   ],
   "source": [
    "# Loop through all columns and replace empty lists with zeros\n",
    "for col in merged_data_tvshows.columns:\n",
    "    merged_data_tvshows[col] = merged_data_tvshows[col].apply(lambda x: 0 if isinstance(x, list) and len(x) == 0 else x)\n",
    "\n",
    "def join_elements(x):\n",
    "    if isinstance(x, list):\n",
    "        return ', '.join(str(i) if not isinstance(i, float) else str(int(i)) for i in x)\n",
    "    return x\n",
    "\n",
    "# Remove brackets from all columns in the DataFrame\n",
    "merged_data_tvshows = merged_data_tvshows.applymap(join_elements)"
   ]
  },
  {
   "cell_type": "markdown",
   "metadata": {},
   "source": [
    "Deleting those rows that have more than one value."
   ]
  },
  {
   "cell_type": "code",
   "execution_count": 57,
   "metadata": {},
   "outputs": [
    {
     "name": "stdout",
     "output_type": "stream",
     "text": [
      "Shape of DataFrame after removing rows: (73952, 10)\n"
     ]
    }
   ],
   "source": [
    "# Identify rows where original_release_year or streaming_release_year contain commas\n",
    "multiple_years_indices = merged_data_tvshows.apply(lambda x: (',' in str(x['Rating'])) or (',' in str(x['IMDB_Rating'])), axis=1)\n",
    "\n",
    "# Filter out rows with multiple values in either column\n",
    "merged_data_tvshows = merged_data_tvshows[~multiple_years_indices]\n",
    "\n",
    "# Check the shape of the DataFrame after filtering\n",
    "print(\"Shape of DataFrame after removing rows:\", merged_data_tvshows.shape)\n"
   ]
  },
  {
   "cell_type": "markdown",
   "metadata": {},
   "source": [
    "Using some regex patterns learn in Text Mining classes we will clean the text. We will also change some datatypes."
   ]
  },
  {
   "cell_type": "code",
   "execution_count": 58,
   "metadata": {},
   "outputs": [],
   "source": [
    "# Convert 'Directors' and 'Cast' columns to string type\n",
    "merged_data_tvshows['Directors'] = merged_data_tvshows['Directors'].astype(str)\n",
    "merged_data_tvshows['Cast'] = merged_data_tvshows['Cast'].astype(str)\n",
    "\n",
    "# Define a function to clean the strings in the columns\n",
    "def clean_strings(text):\n",
    "    # Remove leading and trailing spaces\n",
    "    text = text.strip()\n",
    "    # Replace multiple spaces with a single space\n",
    "    text = ' '.join(text.split())\n",
    "    # Remove leading comma\n",
    "    if text.startswith(','):\n",
    "        text = text[1:]\n",
    "    # Remove trailing comma\n",
    "    if text.endswith(','):\n",
    "        text = text[:-1]\n",
    "    # Replace two consecutive commas with one comma\n",
    "    text = text.replace(', ,', ',')\n",
    "    return text\n",
    "\n",
    "# Clean 'Directors' column\n",
    "merged_data_tvshows['Directors'] = merged_data_tvshows['Directors'].apply(clean_strings)\n",
    "\n",
    "# Clean 'Cast' column\n",
    "merged_data_tvshows['Cast'] = merged_data_tvshows['Cast'].apply(clean_strings)"
   ]
  },
  {
   "cell_type": "code",
   "execution_count": 59,
   "metadata": {},
   "outputs": [],
   "source": [
    "# Convert 'Runtime' to string type to handle non-string values\n",
    "merged_data_tvshows['Runtime'] = merged_data_tvshows['Runtime'].astype(str)\n",
    "# Extract numerical values with regular expression and handle missing or non-matching values\n",
    "merged_data_tvshows['Runtime'] = merged_data_tvshows['Runtime'].str.extract(r'(\\d+)', expand=False)\n",
    "merged_data_tvshows['Runtime'] = merged_data_tvshows['Runtime'].replace('', np.nan)  # Replace empty strings with NaN\n",
    "# Identify rows where original_release_year or streaming_release_year contain commas\n",
    "multiple_years_indices = merged_data_tvshows.apply(lambda x: (',' in str(x['Runtime'])), axis=1)\n",
    "\n",
    "# Filter out rows with multiple values in either column\n",
    "merged_data_tvshows = merged_data_tvshows[~multiple_years_indices]\n",
    "\n",
    "merged_data_tvshows['Runtime'] = pd.to_numeric(merged_data_tvshows['Runtime'],errors='coerce')\n",
    "merged_data_tvshows['Runtime'].fillna(0, inplace=True)\n",
    "merged_data_tvshows['Runtime'] = merged_data_tvshows['Runtime'].astype(int)  # Convert to int type\n",
    "# Convert the 'Rating' column to numeric, converting any non-convertible values to NaN\n",
    "merged_data_tvshows['Rating'] = pd.to_numeric(merged_data_tvshows['Rating'], errors='coerce')\n",
    "\n",
    "# Fill NaN values with zeros\n",
    "merged_data_tvshows['Rating'].fillna(0, inplace=True)\n",
    "\n",
    "# Round the 'stars_rating' column to the nearest whole number and cast to integer\n",
    "merged_data_tvshows['Rating'] = np.round(merged_data_tvshows['Rating']).astype(int)\n",
    "merged_data_tvshows['IMDB_Rating'] = merged_data_tvshows['IMDB_Rating'].astype(int)"
   ]
  },
  {
   "cell_type": "code",
   "execution_count": 60,
   "metadata": {},
   "outputs": [],
   "source": [
    "# Convert columns containing lists into numbers\n",
    "cols_to_convert_to_number = ['Rating', 'IMDB_Rating']\n",
    "\n",
    "for col in cols_to_convert_to_number:\n",
    "    merged_data_tvshows[col] = merged_data_tvshows[col].apply(lambda x: x[0] if isinstance(x, list) and len(x) == 1 else x)"
   ]
  },
  {
   "cell_type": "markdown",
   "metadata": {},
   "source": [
    "We also saw that we same some untitled movies, let's check their relevance."
   ]
  },
  {
   "cell_type": "code",
   "execution_count": 61,
   "metadata": {},
   "outputs": [
    {
     "name": "stdout",
     "output_type": "stream",
     "text": [
      "5\n"
     ]
    }
   ],
   "source": [
    "game_titles = merged_data_tvshows[merged_data_tvshows['Series_title'].str.contains('untitled', case=False)]\n",
    "print(len(game_titles))"
   ]
  },
  {
   "cell_type": "markdown",
   "metadata": {},
   "source": [
    "Since they are only 5 rows, we decided to delete."
   ]
  },
  {
   "cell_type": "code",
   "execution_count": 62,
   "metadata": {},
   "outputs": [
    {
     "data": {
      "text/html": [
       "<div>\n",
       "<style scoped>\n",
       "    .dataframe tbody tr th:only-of-type {\n",
       "        vertical-align: middle;\n",
       "    }\n",
       "\n",
       "    .dataframe tbody tr th {\n",
       "        vertical-align: top;\n",
       "    }\n",
       "\n",
       "    .dataframe thead th {\n",
       "        text-align: right;\n",
       "    }\n",
       "</style>\n",
       "<table border=\"1\" class=\"dataframe\">\n",
       "  <thead>\n",
       "    <tr style=\"text-align: right;\">\n",
       "      <th></th>\n",
       "      <th>Series_title</th>\n",
       "      <th>Release_year</th>\n",
       "      <th>Genre</th>\n",
       "      <th>Synopsis</th>\n",
       "      <th>Rating</th>\n",
       "      <th>Runtime</th>\n",
       "      <th>Directors</th>\n",
       "      <th>Cast</th>\n",
       "      <th>IMDB_Rating</th>\n",
       "      <th>No_of_Votes_IMDB</th>\n",
       "    </tr>\n",
       "  </thead>\n",
       "  <tbody>\n",
       "    <tr>\n",
       "      <th>1</th>\n",
       "      <td>HBO Storybook Musicals</td>\n",
       "      <td>1987–</td>\n",
       "      <td>Animation, Family, Musical</td>\n",
       "      <td>Mike and his trusty shovel Mary Anne are known...</td>\n",
       "      <td>7</td>\n",
       "      <td>26</td>\n",
       "      <td>Michael Sporn</td>\n",
       "      <td>Robert Klein, Jason Biggs, Tina Fabrique, She...</td>\n",
       "      <td>0</td>\n",
       "      <td>0</td>\n",
       "    </tr>\n",
       "    <tr>\n",
       "      <th>2</th>\n",
       "      <td>Jurassic World: Camp Cretaceous</td>\n",
       "      <td>2020–2022</td>\n",
       "      <td>Animation, Action, Adventure</td>\n",
       "      <td>Based on the show Camp Cretaceous, Hidden Adve...</td>\n",
       "      <td>7</td>\n",
       "      <td>32</td>\n",
       "      <td>Leah Artwick, Eric Elrod, Michael Mullen, Zes...</td>\n",
       "      <td>Paul-Mikél Williams, Sean Giambrone, Kausar M...</td>\n",
       "      <td>0</td>\n",
       "      <td>0</td>\n",
       "    </tr>\n",
       "    <tr>\n",
       "      <th>3</th>\n",
       "      <td>SMG4</td>\n",
       "      <td>2011–</td>\n",
       "      <td>Animation, Action, Adventure</td>\n",
       "      <td>SMG4 goes insane and it's up to his friends to...</td>\n",
       "      <td>7</td>\n",
       "      <td>39</td>\n",
       "      <td>Luke Lerdwichagul</td>\n",
       "      <td>James Bailey, Kevin Lerdwichagul, Luke Lerdwi...</td>\n",
       "      <td>0</td>\n",
       "      <td>0</td>\n",
       "    </tr>\n",
       "  </tbody>\n",
       "</table>\n",
       "</div>"
      ],
      "text/plain": [
       "                       Series_title Release_year  \\\n",
       "1            HBO Storybook Musicals       1987–    \n",
       "2   Jurassic World: Camp Cretaceous    2020–2022   \n",
       "3                              SMG4       2011–    \n",
       "\n",
       "                          Genre  \\\n",
       "1    Animation, Family, Musical   \n",
       "2  Animation, Action, Adventure   \n",
       "3  Animation, Action, Adventure   \n",
       "\n",
       "                                            Synopsis  Rating  Runtime  \\\n",
       "1  Mike and his trusty shovel Mary Anne are known...       7       26   \n",
       "2  Based on the show Camp Cretaceous, Hidden Adve...       7       32   \n",
       "3  SMG4 goes insane and it's up to his friends to...       7       39   \n",
       "\n",
       "                                           Directors  \\\n",
       "1                                      Michael Sporn   \n",
       "2   Leah Artwick, Eric Elrod, Michael Mullen, Zes...   \n",
       "3                                  Luke Lerdwichagul   \n",
       "\n",
       "                                                Cast  IMDB_Rating  \\\n",
       "1   Robert Klein, Jason Biggs, Tina Fabrique, She...            0   \n",
       "2   Paul-Mikél Williams, Sean Giambrone, Kausar M...            0   \n",
       "3   James Bailey, Kevin Lerdwichagul, Luke Lerdwi...            0   \n",
       "\n",
       "  No_of_Votes_IMDB  \n",
       "1                0  \n",
       "2                0  \n",
       "3                0  "
      ]
     },
     "execution_count": 62,
     "metadata": {},
     "output_type": "execute_result"
    }
   ],
   "source": [
    "merged_data_tvshows = merged_data_tvshows[~merged_data_tvshows['Series_title'].str.contains('untitled', case=False)]\n",
    "\n",
    "# Display updated DataFrame after removing rows with 'untitled' in the 'Title' column\n",
    "merged_data_tvshows.head(3)"
   ]
  },
  {
   "cell_type": "markdown",
   "metadata": {},
   "source": [
    "Now it is time to delete the NaN values."
   ]
  },
  {
   "cell_type": "code",
   "execution_count": 63,
   "metadata": {},
   "outputs": [
    {
     "name": "stdout",
     "output_type": "stream",
     "text": [
      "<class 'pandas.core.frame.DataFrame'>\n",
      "Index: 73947 entries, 1 to 78983\n",
      "Data columns (total 10 columns):\n",
      " #   Column            Non-Null Count  Dtype \n",
      "---  ------            --------------  ----- \n",
      " 0   Series_title      73947 non-null  object\n",
      " 1   Release_year      73947 non-null  object\n",
      " 2   Genre             73947 non-null  object\n",
      " 3   Synopsis          73947 non-null  object\n",
      " 4   Rating            73947 non-null  int64 \n",
      " 5   Runtime           73947 non-null  int32 \n",
      " 6   Directors         73947 non-null  object\n",
      " 7   Cast              73947 non-null  object\n",
      " 8   IMDB_Rating       73947 non-null  int64 \n",
      " 9   No_of_Votes_IMDB  73947 non-null  object\n",
      "dtypes: int32(1), int64(2), object(7)\n",
      "memory usage: 5.9+ MB\n"
     ]
    }
   ],
   "source": [
    "merged_data_tvshows.dropna(inplace=True)\n",
    "merged_data_tvshows.info()"
   ]
  },
  {
   "cell_type": "markdown",
   "metadata": {},
   "source": [
    "## 4.2. Genres <a class=\"anchor\" id=\"section_4_2\"></a>\n",
    "In this subsection we will check the genres distribution. But before plotting the genres, we will to make sure that all of the genres are equally written, in our case, we will set all of the genres to lowercase."
   ]
  },
  {
   "cell_type": "code",
   "execution_count": 64,
   "metadata": {},
   "outputs": [
    {
     "data": {
      "text/plain": [
       "1          animation, family, musical\n",
       "2        animation, action, adventure\n",
       "3        animation, action, adventure\n",
       "4                              comedy\n",
       "5                             romance\n",
       "                     ...             \n",
       "78979                 comedy, musical\n",
       "78980                horror, thriller\n",
       "78981                           drama\n",
       "78982            action, crime, drama\n",
       "78983       animation, comedy, family\n",
       "Name: Genre, Length: 73947, dtype: object"
      ]
     },
     "execution_count": 64,
     "metadata": {},
     "output_type": "execute_result"
    }
   ],
   "source": [
    "# Convert genres column to lowercase\n",
    "merged_data_tvshows['Genre'] = merged_data_tvshows['Genre'].str.lower()\n",
    "\n",
    "# Display the modified 'genres' column\n",
    "merged_data_tvshows['Genre']"
   ]
  },
  {
   "cell_type": "code",
   "execution_count": 65,
   "metadata": {},
   "outputs": [
    {
     "name": "stdout",
     "output_type": "stream",
     "text": [
      "drama: 18.09%\n",
      "comedy: 11.24%\n",
      "action: 6.36%\n",
      "romance: 5.23%\n",
      "adventure: 5.09%\n",
      "documentary: 4.95%\n",
      "crime: 4.73%\n",
      "horror: 4.09%\n",
      "music: 3.87%\n",
      "thriller: 3.60%\n",
      "biography: 3.57%\n",
      "animation: 3.28%\n",
      "family: 3.08%\n",
      "history: 2.86%\n",
      "mystery: 2.82%\n",
      "musical: 2.74%\n",
      "western: 2.61%\n",
      "fantasy: 2.41%\n",
      "short: 2.35%\n",
      "war: 2.35%\n",
      "sci-fi: 2.06%\n",
      "sport: 1.79%\n",
      "reality-tv: 0.38%\n",
      "film-noir: 0.17%\n",
      "game-show: 0.11%\n",
      "news: 0.09%\n",
      "talk-show: 0.08%\n",
      "****: 0.01%\n",
      "adult: 0.00%\n"
     ]
    }
   ],
   "source": [
    "# Combine all genres into a single string and split them\n",
    "all_genres = ','.join(merged_data_tvshows['Genre'].explode().dropna())\n",
    "split_genres = [genre.strip() for genre in all_genres.split(',')]\n",
    "\n",
    "# Get the frequency of each individual genre\n",
    "genre_counts = pd.Series(split_genres).value_counts()\n",
    "\n",
    "# Calculate the percentage of each genre\n",
    "genre_percentages = (genre_counts / genre_counts.sum()) * 100\n",
    "\n",
    "# Sort genres by count in descending order\n",
    "sorted_genres = genre_percentages.sort_values(ascending=False)\n",
    "\n",
    "# Print percentages for each genre\n",
    "for genre, percentage in sorted_genres.items():\n",
    "    print(f\"{genre}: {percentage:.2f}%\")"
   ]
  },
  {
   "cell_type": "markdown",
   "metadata": {},
   "source": [
    "By the output above there are some changes that migth be solved."
   ]
  },
  {
   "cell_type": "code",
   "execution_count": 66,
   "metadata": {},
   "outputs": [],
   "source": [
    "# Define the genre mapping dictionary\n",
    "genre_mapping = {\n",
    "    'sci-fi': 'science fiction',\n",
    "    '****': 'adult'\n",
    "}\n",
    "\n",
    "# Iterate through the genre_mapping dictionary and apply replacements\n",
    "for old_genres, new_genres in genre_mapping.items():\n",
    "    merged_data_tvshows['Genre'] = merged_data_tvshows['Genre'].str.replace(old_genres, new_genres)"
   ]
  },
  {
   "cell_type": "code",
   "execution_count": 67,
   "metadata": {},
   "outputs": [
    {
     "name": "stderr",
     "output_type": "stream",
     "text": [
      "C:\\Users\\xandg\\AppData\\Local\\Temp\\ipykernel_31092\\2284402086.py:15: MatplotlibDeprecationWarning: The get_cmap function was deprecated in Matplotlib 3.7 and will be removed two minor releases later. Use ``matplotlib.colormaps[name]`` or ``matplotlib.colormaps.get_cmap(obj)`` instead.\n",
      "  colors = plt.cm.get_cmap('viridis', len(sorted_genres))\n"
     ]
    },
    {
     "data": {
      "image/png": "[encoded data removed]",
      "text/plain": [
       "<Figure size 1500x600 with 1 Axes>"
      ]
     },
     "metadata": {},
     "output_type": "display_data"
    }
   ],
   "source": [
    "# Combine all genres into a single string and split them\n",
    "all_genres = ','.join(merged_data_tvshows['Genre'].explode().dropna())\n",
    "split_genres = [genre.strip() for genre in all_genres.split(',')]\n",
    "\n",
    "# Get the frequency of each individual genre\n",
    "genre_counts = pd.Series(split_genres).value_counts()\n",
    "\n",
    "# Calculate the percentage of each genre\n",
    "genre_percentages = (genre_counts / genre_counts.sum()) * 100\n",
    "\n",
    "# Sort genres by count in descending order\n",
    "sorted_genres = genre_percentages.sort_values(ascending=False)\n",
    "\n",
    "# Customizing color\n",
    "colors = plt.cm.get_cmap('viridis', len(sorted_genres))  \n",
    "\n",
    "plt.figure(figsize=(15, 6))\n",
    "bars = plt.bar(sorted_genres.index, sorted_genres, color=colors(range(len(sorted_genres))))\n",
    "plt.title('Percentage of Each Individual Genre in the Dataset')\n",
    "plt.xlabel('Genres')\n",
    "plt.ylabel('Percentage (%)')\n",
    "plt.xticks(rotation=90)\n",
    "\n",
    "for bar in bars:\n",
    "    yval = bar.get_height()\n",
    "    plt.text(bar.get_x() + bar.get_width() / 2, yval + 1, round(yval, 2), ha='center', va='bottom')\n",
    "\n",
    "plt.tight_layout()\n",
    "plt.show()"
   ]
  },
  {
   "cell_type": "markdown",
   "metadata": {},
   "source": [
    "## 4.3. CritiScore <a class=\"anchor\" id=\"section_4_3\"></a>\n",
    "\n",
    "The `CritiScore` for TV shows is a calculated metric derived from available ratings. It represents an aggregate score that combines the IMDb rating and another rating metric. To fit within the 0 to 100 scale, both IMDb Rating and the other metric are scaled by multiplying by 10. This results in a final score on a scale of 0 to 100.\n",
    "\n",
    "The calculation process includes the following steps:\n",
    "\n",
    "1. **IMDB_Rating**: Scaled to a range of 0-100 by multiplying by 10.\n",
    "2. **Rating**: Scaled to a range of 0-100 by multiplying by 10 (specific to the dataset).\n",
    "3. **CritiScore**: This metric is a weighted aggregate score derived from available ratings. It represents a weighted average of the scaled ratings.\n",
    "\n",
    "| Metric             | Scale  | Description                                        |\n",
    "|--------------------|--------|----------------------------------------------------|\n",
    "| IMDB_Rating        | 0-10   | IMDb rating on a scale of 0 to 10, scaled by 10     |\n",
    "| Rating             | 0-10   | Another rating metric (specific to the dataset), scaled by 10   |\n",
    "| **CritiScore**     | 0-100  | Weighted aggregate score derived from ratings       |\n"
   ]
  },
  {
   "cell_type": "markdown",
   "metadata": {},
   "source": [
    "Checking the distribution of ratings columns."
   ]
  },
  {
   "cell_type": "code",
   "execution_count": 68,
   "metadata": {},
   "outputs": [
    {
     "data": {
      "text/html": [
       "<div>\n",
       "<style scoped>\n",
       "    .dataframe tbody tr th:only-of-type {\n",
       "        vertical-align: middle;\n",
       "    }\n",
       "\n",
       "    .dataframe tbody tr th {\n",
       "        vertical-align: top;\n",
       "    }\n",
       "\n",
       "    .dataframe thead th {\n",
       "        text-align: right;\n",
       "    }\n",
       "</style>\n",
       "<table border=\"1\" class=\"dataframe\">\n",
       "  <thead>\n",
       "    <tr style=\"text-align: right;\">\n",
       "      <th></th>\n",
       "      <th>IMDB_Rating</th>\n",
       "      <th>Rating</th>\n",
       "    </tr>\n",
       "  </thead>\n",
       "  <tbody>\n",
       "    <tr>\n",
       "      <th>min</th>\n",
       "      <td>0.0</td>\n",
       "      <td>0.0</td>\n",
       "    </tr>\n",
       "    <tr>\n",
       "      <th>max</th>\n",
       "      <td>9.0</td>\n",
       "      <td>10.0</td>\n",
       "    </tr>\n",
       "  </tbody>\n",
       "</table>\n",
       "</div>"
      ],
      "text/plain": [
       "     IMDB_Rating  Rating\n",
       "min          0.0     0.0\n",
       "max          9.0    10.0"
      ]
     },
     "execution_count": 68,
     "metadata": {},
     "output_type": "execute_result"
    }
   ],
   "source": [
    "ratings = ['IMDB_Rating', 'Rating']\n",
    "rating_stats = merged_data_tvshows[ratings].describe()\n",
    "rating_stats.loc[['min', 'max']]"
   ]
  },
  {
   "cell_type": "markdown",
   "metadata": {},
   "source": [
    "Rescaling:"
   ]
  },
  {
   "cell_type": "code",
   "execution_count": 69,
   "metadata": {},
   "outputs": [],
   "source": [
    "# Scaling IMDb rating to a range of 0-100\n",
    "merged_data_tvshows['IMDB_Rating_scaled'] = merged_data_tvshows['IMDB_Rating'] * 10\n",
    "\n",
    "# Scaling stars rating to a range of 0-100\n",
    "merged_data_tvshows['Rating_scaled'] = merged_data_tvshows['Rating'] * 10"
   ]
  },
  {
   "cell_type": "markdown",
   "metadata": {},
   "source": [
    "Calculating the actually CritiScore."
   ]
  },
  {
   "cell_type": "code",
   "execution_count": 70,
   "metadata": {},
   "outputs": [],
   "source": [
    "def calculate_criti_score(row):\n",
    "    ratings = ['IMDB_Rating_scaled','Rating_scaled']\n",
    "    available_ratings = [row[rating] for rating in ratings if row[rating] > 0]  # Check for non-zero ratings\n",
    "    \n",
    "    if len(available_ratings) == 0:\n",
    "        return None  # No available ratings\n",
    "\n",
    "    elif len(available_ratings) == 1:\n",
    "        return available_ratings[0]  # Only one available rating, return it as CritiScore\n",
    "\n",
    "    else:\n",
    "        # Calculate weighted average for available ratings\n",
    "        weights = [1 / len(available_ratings)] * len(available_ratings)\n",
    "        criti_score = sum(available_ratings[i] * weights[i] for i in range(len(available_ratings)))\n",
    "        return criti_score  # Return weighted average of available ratings\n",
    "\n",
    "# Apply the function to calculate CritiScore for each row\n",
    "merged_data_tvshows['CritiScore'] = merged_data_tvshows.apply(calculate_criti_score, axis=1)\n",
    "    \n",
    "# Remove rows with no available ratings\n",
    "merged_data_tvshows.dropna(subset=['CritiScore'], inplace=True)\n",
    "\n",
    "# Round the 'CritiScore' to the nearest whole number and cast to integer\n",
    "merged_data_tvshows['CritiScore'] = merged_data_tvshows['CritiScore'].round(0).astype(int)"
   ]
  },
  {
   "cell_type": "markdown",
   "metadata": {},
   "source": [
    "For curiosity, let's create bins and check the distribution of CritiScore."
   ]
  },
  {
   "cell_type": "code",
   "execution_count": 71,
   "metadata": {},
   "outputs": [
    {
     "name": "stderr",
     "output_type": "stream",
     "text": [
      "C:\\Users\\xandg\\AppData\\Local\\Temp\\ipykernel_31092\\3755678665.py:7: MatplotlibDeprecationWarning: The get_cmap function was deprecated in Matplotlib 3.7 and will be removed two minor releases later. Use ``matplotlib.colormaps[name]`` or ``matplotlib.colormaps.get_cmap(obj)`` instead.\n",
      "  colormap = get_cmap('viridis', num_bins)  # Generating colormap\n"
     ]
    },
    {
     "data": {
      "image/png": "[encoded data removed]",
      "text/plain": [
       "<Figure size 800x600 with 1 Axes>"
      ]
     },
     "metadata": {},
     "output_type": "display_data"
    }
   ],
   "source": [
    "# Define the number of bins and create bins for the 'CritiScore' column\n",
    "num_bins = 10  # Adjust the number of bins as needed\n",
    "bins = pd.cut(merged_data_tvshows['CritiScore'], num_bins)\n",
    "\n",
    "# Plot the histogram of CritiScore distribution with 'viridis' colormap\n",
    "plt.figure(figsize=(8, 6))\n",
    "colormap = get_cmap('viridis', num_bins)  # Generating colormap\n",
    "plt.hist(merged_data_tvshows['CritiScore'], bins=num_bins, edgecolor='black')\n",
    "\n",
    "# Set colors for each bar using the colormap\n",
    "for i, patch in enumerate(plt.gca().patches):\n",
    "    patch.set_facecolor(colormap(i))\n",
    "\n",
    "plt.title('Distribution of CritiScore')\n",
    "plt.xlabel('CritiScore')\n",
    "plt.ylabel('Frequency')\n",
    "plt.grid(True)\n",
    "plt.show()"
   ]
  },
  {
   "cell_type": "markdown",
   "metadata": {},
   "source": [
    "## 4.4. Saving the Metadata with CritiScores <a class=\"anchor\" id=\"section_4_4\"></a>\n",
    "Now we will delete unnecessary columns."
   ]
  },
  {
   "cell_type": "code",
   "execution_count": 72,
   "metadata": {},
   "outputs": [
    {
     "data": {
      "text/plain": [
       "Index(['Series_title', 'Release_year', 'Genre', 'Synopsis', 'Rating',\n",
       "       'Runtime', 'Directors', 'Cast', 'IMDB_Rating', 'No_of_Votes_IMDB',\n",
       "       'IMDB_Rating_scaled', 'Rating_scaled', 'CritiScore'],\n",
       "      dtype='object')"
      ]
     },
     "execution_count": 72,
     "metadata": {},
     "output_type": "execute_result"
    }
   ],
   "source": [
    "merged_data_tvshows.columns"
   ]
  },
  {
   "cell_type": "code",
   "execution_count": 73,
   "metadata": {},
   "outputs": [],
   "source": [
    "# List of columns to delete\n",
    "columns_to_delete = ['Rating_scaled', 'IMDB_Rating_scaled', 'IMDB_Rating', 'No_of_Votes_IMDB', 'Rating']\n",
    "\n",
    "# Dropping the specified columns\n",
    "merged_data_tvshows.drop(columns=columns_to_delete, inplace=True)"
   ]
  },
  {
   "cell_type": "markdown",
   "metadata": {},
   "source": [
    "Now that we create the Data, we will save the dataset."
   ]
  },
  {
   "cell_type": "code",
   "execution_count": 74,
   "metadata": {},
   "outputs": [],
   "source": [
    "# Save as CSV\n",
    "merged_data_tvshows.to_csv(r'Data/Metadata/tvshows.csv', index=False)"
   ]
  }
 ],
 "metadata": {
  "kernelspec": {
   "display_name": "env",
   "language": "python",
   "name": "python3"
  },
  "language_info": {
   "codemirror_mode": {
    "name": "ipython",
    "version": 3
   },
   "file_extension": ".py",
   "mimetype": "text/x-python",
   "name": "python",
   "nbconvert_exporter": "python",
   "pygments_lexer": "ipython3",
   "version": "3.11.7"
  }
 },
 "nbformat": 4,
 "nbformat_minor": 2
}
